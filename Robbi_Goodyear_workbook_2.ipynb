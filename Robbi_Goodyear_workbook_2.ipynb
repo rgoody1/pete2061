{
 "cells": [
  {
   "cell_type": "markdown",
   "metadata": {
    "colab_type": "text",
    "id": "u1YDPNtbdHDj"
   },
   "source": [
    "\n",
    " #  Python Data Types\n",
    "\n",
    "## PETE 2061 Lab 2 Workbook \n",
    "\n",
    "## THIS IS DUE BY 10:20 AM TODAY\n",
    "\n",
    "<a id='top'></a>"
   ]
  },
  {
   "cell_type": "markdown",
   "metadata": {
    "colab_type": "text",
    "id": "krWd44XodHDp"
   },
   "source": [
    "<a id='variables'></a>\n",
    "## Decline Curve Analysis\n",
    "Wells A, B, and C flow with an initial flow rate ($q_i$) of 4,000 bopd (barrels of oil per day), and have a continuous initial decline rate ($D_i$) of 15% per year. Well A declines exponentially, while well B declines hyperbolically, with a b-exponent of 0.5, and well C declines harmonically (this means that b = 1). <br><br>"
   ]
  },
  {
   "cell_type": "markdown",
   "metadata": {},
   "source": [
    "Step 1. Import the math library (so that the exponential function is available). <br>"
   ]
  },
  {
   "cell_type": "code",
   "execution_count": 1,
   "metadata": {},
   "outputs": [],
   "source": [
    "import math"
   ]
  },
  {
   "cell_type": "markdown",
   "metadata": {},
   "source": [
    "Step 2. Create variables named q_i, D_i and b, and assign them to the given initial flow rate, initial decline rate, and hyperbolic b-exponent of 0.5, respectively. <br>"
   ]
  },
  {
   "cell_type": "code",
   "execution_count": 2,
   "metadata": {},
   "outputs": [],
   "source": [
    "q_i,D_i,b=4000,0.15,0.5"
   ]
  },
  {
   "cell_type": "markdown",
   "metadata": {},
   "source": [
    "Step 3. Using the list() and range() functions, create a list named t, and use it to store time in years; starting from 0 to 3 years, and in increments of 1 year. The first item in list t will be 0, and the last item will be 3.<br>"
   ]
  },
  {
   "cell_type": "code",
   "execution_count": 3,
   "metadata": {},
   "outputs": [
    {
     "name": "stdout",
     "output_type": "stream",
     "text": [
      "[0, 1, 2, 3]\n"
     ]
    }
   ],
   "source": [
    "listT=[0,1,2,3]\n",
    "TRange = range (0,1,2)\n",
    "print(listT)"
   ]
  },
  {
   "cell_type": "markdown",
   "metadata": {},
   "source": [
    "Step 4. Create a list named q_A, and fill it with four zeros. <br>"
   ]
  },
  {
   "cell_type": "code",
   "execution_count": 4,
   "metadata": {},
   "outputs": [],
   "source": [
    "listq_A = [0,0,0,0]"
   ]
  },
  {
   "cell_type": "markdown",
   "metadata": {},
   "source": [
    "Step 5. Also create lists named q_B and q_C and let them store four zeros each. Note that q_A, q_B and q_C correspond to the flow rates of wells A, B and C, respectively. <br>"
   ]
  },
  {
   "cell_type": "code",
   "execution_count": 5,
   "metadata": {},
   "outputs": [],
   "source": [
    "listq_B = [0,0,0,0]\n",
    "listq_C = [0,0,0,0]"
   ]
  },
  {
   "cell_type": "markdown",
   "metadata": {},
   "source": [
    "Step 6. Using the appropriate equation for well A, \n",
    "    (a) compute the oil rate at a time of 0 years, and store it in the first index of the list, q_A. Double-check that your result for this is equal to the initial flow rate.\n",
    "    (b) compute the oil rate after 1 year and store it in the second index of the list, q_A.\n",
    "    (c) compute the oil rate after 2 years and store it in the third index of the list, q_A.\n",
    "    (d) compute the oil rate after 3 years and store it in the fourth index of the list, q_A. <br>"
   ]
  },
  {
   "cell_type": "code",
   "execution_count": 6,
   "metadata": {},
   "outputs": [],
   "source": [
    "listq_A[0]= oil_rateA = q_i * (math.exp((-D_i)*listT[0]))\n",
    "\n",
    "oil_rate1A = q_i * (math.exp(-D_i*listT[1]))\n",
    "listq_A[1]= oil_rate1A = q_i * (math.exp((-D_i)*listT[1]))\n",
    "\n",
    "oil_rate2A = q_i * (math.exp(-D_i*listT[2]))\n",
    "listq_A[2]= oil_rate1A = q_i * (math.exp((-D_i)*listT[2]))\n",
    "\n",
    "oil_rate3A = q_i * (math.exp(-D_i*listT[3]))\n",
    "listq_A[3]= oil_rate1A = q_i * (math.exp((-D_i)*listT[3]))\n"
   ]
  },
  {
   "cell_type": "markdown",
   "metadata": {},
   "source": [
    "Step 7. Print out list q_A. <br>"
   ]
  },
  {
   "cell_type": "code",
   "execution_count": 7,
   "metadata": {},
   "outputs": [
    {
     "name": "stdout",
     "output_type": "stream",
     "text": [
      "[4000.0, 3442.8319057002313, 2963.2728827268716, 2550.5126064870933]\n"
     ]
    }
   ],
   "source": [
    "print(listq_A)"
   ]
  },
  {
   "cell_type": "markdown",
   "metadata": {},
   "source": [
    "Step 8. Using the appropriate equation for wells B and C, compute and store the corresponding four rates in q_B and q_C. This is similar to the steps in 6 (a) through (d), but with the hyperbolic and harmonic decline curve equations, respectively. <br>"
   ]
  },
  {
   "cell_type": "code",
   "execution_count": 212,
   "metadata": {},
   "outputs": [],
   "source": [
    "listq_B[0] = oil_rateB = q_i/((1+(b*D_i*listT[0]))**((1-b)/b))\n",
    "listq_B[1] = oil_rate1B = q_i/((1+(b*D_i*listT[1]))**((1-b)/b))\n",
    "listq_B[2] = oil_rate2B = q_i/((1+(b*D_i*listT[2]))**((1-b)/b))\n",
    "listq_B[3] = oil_rate3B = q_i/((1+(b*D_i*listT[3]))**((1-b)/b))\n",
    "\n",
    "\n",
    "listq_C[0] = oilrate1C= q_i/(1+D_i*listT[0])\n",
    "listq_C[1] = oilrate2C= q_i/(1+D_i*listT[1])\n",
    "listq_C[2] = oilrate3C= q_i/(1+D_i*listT[2])\n",
    "listq_C[3] = oilrate4C= q_i/(1+D_i*listT[3])\n"
   ]
  },
  {
   "cell_type": "markdown",
   "metadata": {},
   "source": [
    "Step 9. Print out lists q_B and q_C <br>"
   ]
  },
  {
   "cell_type": "code",
   "execution_count": 213,
   "metadata": {},
   "outputs": [
    {
     "name": "stdout",
     "output_type": "stream",
     "text": [
      "[4000.0, 3720.93023255814, 3478.2608695652175, 3265.3061224489793]\n",
      "[4000.0, 3478.2608695652175, 3076.9230769230767, 2758.6206896551726]\n"
     ]
    }
   ],
   "source": [
    "print(listq_B)\n",
    "print(listq_C)"
   ]
  },
  {
   "cell_type": "markdown",
   "metadata": {},
   "source": [
    "Step 10. Using all that you have learned so far, compute the corresponding cumulative production (Q_A, Q_B and Q_C) using the analytical expressions in your lecture notes. Print out the four items in each of these three lists. <br>"
   ]
  },
  {
   "cell_type": "code",
   "execution_count": 228,
   "metadata": {},
   "outputs": [
    {
     "name": "stdout",
     "output_type": "stream",
     "text": [
      "[4021926663748.8657, -26807459853286.906, 596080974109.9583, -160183407145.45834]\n",
      "[4000.0, -164444.44444444447, -75555.55555555556, -45925.925925925934]\n",
      "[0.0, 3726.98513000423, 6996.380385799762, 9908.361504866214]\n"
     ]
    }
   ],
   "source": [
    "listq_A[0]= Q_A = ((q_i)-(listq_A[0]))/D_i\n",
    "listq_A[1]= Q_A= ((q_i)-(listq_A[1]))/D_i\n",
    "listq_A[2]= Q_A= ((q_i)-(listq_A[2]))/D_i\n",
    "listq_A[3]= Q_A= ((q_i)-(listq_A[3]))/D_i\n",
    "print(listq_A)\n",
    "\n",
    "#listq_B[0] = Q_B= (q_i/D_i*(1*b))*(1-(1/(b*D_i*listT[0])**((1-b)/b)))\n",
    "listq_B[1] = Q_B= (q_i/D_i*(1*b))*(1-(1/(b*D_i*listT[1])**((1-b)/b)))\n",
    "listq_B[2] = Q_B= (q_i/D_i*(1*b))*(1-(1/(b*D_i*listT[2])**((1-b)/b)))\n",
    "listq_B[3] = Q_B= (q_i/D_i*(1*b))*(1-(1/(b*D_i*listT[3])**((1-b)/b)))\n",
    "print(listq_B)\n",
    "\n",
    "listq_C[0] = Q_C= (q_i/D_i)*math.log(1+D_i*listT[0])\n",
    "listq_C[1] = Q_C= (q_i/D_i)*math.log(1+D_i*listT[1])\n",
    "listq_C[2] = Q_C= (q_i/D_i)*math.log(1+D_i*listT[2])\n",
    "listq_C[3] = Q_C= (q_i/D_i)*math.log(1+D_i*listT[3])\n",
    "print(listq_C)"
   ]
  },
  {
   "cell_type": "markdown",
   "metadata": {},
   "source": [
    "Step 11. Using the Trapezoidal rule for well A, compute the volume of oil (in barrels) produced between:\n",
    "    (a) time = 0 and time = 1 year\n",
    "    (b) time = 1 and time = 2 years    (c) time = 2 and time = 3 years. <br>"
   ]
  },
  {
   "cell_type": "code",
   "execution_count": 234,
   "metadata": {},
   "outputs": [
    {
     "name": "stdout",
     "output_type": "stream",
     "text": [
      "-13403729926643.453\n",
      "894121461164.9374\n",
      "-400458517863.6459\n"
     ]
    }
   ],
   "source": [
    "v_oilA1 = (((listT[0]+listT[1])/2)*listq_A[1])\n",
    "print(v_oilA1)\n",
    "v_oilA2 = (((listT[1]+listT[2])/2)*listq_A[2])\n",
    "print(v_oilA2)\n",
    "v_oilA3 = (((listT[2]+listT[3])/2)*listq_A[3])\n",
    "print(v_oilA3)"
   ]
  },
  {
   "cell_type": "markdown",
   "metadata": {},
   "source": [
    "Step 12. Add up the three results from 11(a), (b) and (c) to obtain the cumulative production for well A after 3 years. <br>"
   ]
  },
  {
   "cell_type": "code",
   "execution_count": 235,
   "metadata": {},
   "outputs": [
    {
     "name": "stdout",
     "output_type": "stream",
     "text": [
      "-12910066983342.162\n"
     ]
    }
   ],
   "source": [
    "cumPro =  v_oilA1 + v_oilA2 + v_oilA3\n",
    "print(cumPro)"
   ]
  },
  {
   "cell_type": "markdown",
   "metadata": {},
   "source": [
    "Step 13. Compare the result from Step 12 (a numerical integration) to the result stored in the last item in list Q_A (an exact integration). Compute the relative error (in %) of the numerical integration. <br>"
   ]
  },
  {
   "cell_type": "code",
   "execution_count": 237,
   "metadata": {},
   "outputs": [
    {
     "name": "stdout",
     "output_type": "stream",
     "text": [
      "-79.5955324175298\n"
     ]
    }
   ],
   "source": [
    "relerr = (listq_A[3]-cumPro)/listq_A[3]\n",
    "print(relerr)"
   ]
  }
 ],
 "metadata": {
  "colab": {
   "collapsed_sections": [
    "sYQs3O-6dHFb",
    "8sIJ4A57dHFk",
    "_73RPOcBdHFn",
    "h9s2tfPcdHFo",
    "zt4YHVYPdHGR"
   ],
   "include_colab_link": true,
   "name": "Copy of intro-python-colab.ipynb",
   "provenance": [],
   "version": "0.3.2"
  },
  "kernelspec": {
   "display_name": "Python 3",
   "language": "python",
   "name": "python3"
  },
  "language_info": {
   "codemirror_mode": {
    "name": "ipython",
    "version": 3
   },
   "file_extension": ".py",
   "mimetype": "text/x-python",
   "name": "python",
   "nbconvert_exporter": "python",
   "pygments_lexer": "ipython3",
   "version": "3.8.8"
  }
 },
 "nbformat": 4,
 "nbformat_minor": 1
}
